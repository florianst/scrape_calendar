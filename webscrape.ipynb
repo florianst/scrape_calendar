{
 "cells": [
  {
   "cell_type": "code",
   "execution_count": 1,
   "metadata": {},
   "outputs": [],
   "source": [
    "import requests\n",
    "from bs4 import BeautifulSoup\n",
    "import pickle"
   ]
  },
  {
   "cell_type": "code",
   "execution_count": 29,
   "metadata": {},
   "outputs": [
    {
     "name": "stdout",
     "output_type": "stream",
     "text": [
      "2010 found 46\n",
      "2011 found 38\n",
      "2012 found 41\n",
      "2013 found 52\n",
      "2014 found 36\n",
      "2015 found 44\n",
      "2016 found 49\n",
      "2017 found 31\n",
      "2018 found 34\n",
      "2019 found 25\n",
      "2020 found 2\n",
      "['/events/holst-singers-hyperion-cd-recording', '/events/polyphony-scotland', '/events/poland', '/events/holst-singers-twickenham', '/events/holst-singers-cambridge', '/events/danish-radio-vocal-ensemble-sweden', '/events/danish-radio-vocal-ensemble-danish-radio-4', '/events/danish-radio-vocal-ensemble-danish-radio-5', '/events/choir-trinity-college-cambridge-cambridge-6', '/events/trinity-college-choir-cambridge-nocturne-0', '/events/trinity-college-choir-cambridge-nocturne-1', '/events/odense-symphony-orchestra-denmark', '/events/polyphony-bach-st-john-passion-6', '/events/polyphony-cambridge', '/events/polyphony-passion-and-resurrection-0', '/events/polyphony-passion-and-resurrection-1', '/events/city-london-sinfonia-choir-trinity-college-cambridge-aldeburgh', '/events/holst-singers-oxford-0', '/events/holst-singers-bach-motets-and-cello-suites-0', '/events/trinity-college-choir-cambridge-singing-towers-0', '/events/polish-chamber-choir-poland', '/events/city-london-sinfonia-london-3', '/events/choir-trinity-college-cambridge-cambridge-8', '/events/choir-trinity-college-cambridge-australia', '/events/choir-trinity-college-cambridge-australia-0', '/events/trinity-college-choir-cambridge-australia-0', '/events/trinity-college-choir-cambridge-australia-1', '/events/trinity-college-choir-cambridge-australia-2', '/events/trinity-college-choir-cambridge-australia-3', '/events/trinity-college-choir-cambridge-australia-4', '/events/trinity-college-choir-cambridge-australia-5', '/events/trinity-college-choir-cambridge-australia-6', '/events/trinity-college-choir-cambridge-australia-7', '/events/trinity-college-choir-cambridge-australia-8', '/events/trinity-college-choir-cambridge-lunchtime-concert-1', '/events/city-london-sinfonia-london-4', '/events/city-london-sinfonia-london-5', '/events/scottish-chamber-orchestra-scotland', '/events/scottish-chamber-orchestra-3', '/events/trinity-college-choir-cambridge-lunchtime-concert-2', '/events/hall%C3%A9-orchestra-0', '/events/south-jutland-symphony-orchestra-denmark-0', '/events/south-jutland-symphony-orchestra-messiah-denmark-0', '/events/south-jutland-symphony-orchestra-messiah-denmark-1', '/events/choir-trinity-college-cambridge-london', '/events/polyphony-christmas-festival-0', '/events/city-london-sinfonia-colombia', '/events/city-london-sinfonia-cartagena-international-festival-music-0', '/events/city-london-sinfonia-cartagena-international-festival-music-1', '/events/city-london-sinfonia-columbia-0', '/events/city-chamber-orchestra-hong-kong-hong-kong', '/events/choir-trinity-college-cambridge-cambridge-1', '/events/voices-now-london', '/events/danish-radio-vocal-ensemble-denmark-6', '/events/danish-radio-vocal-ensemble-denmark-5', '/events/danish-radio-vocal-ensemble-denmark-3', '/events/aalborg-symphony-orchestra-denmark-0', '/events/polyphony-orchestra-age-enlightenment-london-0', '/events/malaysian-philharmonic-orchestra-malaysia-0', '/events/malaysian-philharmonic-orchestra-malaysia', '/events/london-trumpet-choir-northamptonshire', '/events/holst-singers-oxford', '/events/holst-singers-palestrina-and-pizzeti-0', '/events/choir-trinity-college-cambridge-cambridge-2', '/events/choir-trinity-college-choir-cambridge-hyperion-cd-recording', '/events/choral-conducting-masterclass-new-zealand', '/events/danish-radio-vocal-ensemble-denmark-2', '/events/polyphony-city-london-sinfonia-london', '/events/choir-trinity-college-cambridge-cambridge-4', '/events/trinity-college-choir-cambridge-pre-tour-concert-0', '/events/choir-trinity-college-cambridge-switzerland', '/events/trinity-college-choir-cambridge-european-tour-0', '/events/trinity-college-choir-cambridge-european-tour-2', '/events/trinity-college-choir-cambridge-european-tour-4', '/events/trinity-college-choir-cambridge-european-tour-5', '/events/trinity-college-choir-cambridge-european-tour-3', '/events/trinity-college-choir-cambridge-lunchtime-concert-0', '/events/city-london-sinfonia-london-0', '/events/choir-trinity-college-cambridge-cambridge-5', '/events/copenhagen-philharmonic-copenhagen-royal-chapel-choir-denmark', '/events/copenhagen-symphony-orchestra-copenhagen-royal-chapel-choir-denmark', '/events/choir-trinity-college-cambridge-holst-singers-city-london-sinfonia-london', '/events/choir-trinity-college-cambridge-orchestra-age-enlightenment-london-0', '/events/polyphony-academy-ancient-music-london', '/events/danish-national-vocal-ensemble-2', '/events/danish-national-vocal-ensemble-norway', '/events/danish-national-vocal-ensemble-0', '/events/danish-radio-vocal-ensemble-latvia', '/events/city-london-sinfonia-birmingham', '/events/city-london-sinfonia-cambridge', '/events/city-london-sinfonia-conquering-antarctic-0', '/events/city-london-sinfonia-cheltenham', '/events/city-london-sinfonia-3', '/events/city-london-sinfonia-london', '/events/trinity-college-chapel-cambridge-0', '/events/ludovicos-band-australia', '/events/polyphony-6', '/events/polyphony-7', '/events/choir-trinity-college-cambridge-15', '/events/holst-singers-3', '/events/holst-singers-4', '/events/choir-trinity-college-cambridge-16', '/events/trinity-college-chapel-cambridge-1', '/events/choir-trinity-college-cambridge-18', '/events/choir-trinity-college-cambridge-19', '/events/choir-trinity-college-cambridge-20', '/events/choir-trinity-college-cambridge-21', '/events/choir-trinity-college-cambridge-22', '/events/choir-trinity-college-cambridge-23', '/events/choir-trinity-college-cambridge-24', '/events/stephen-layton-china', '/events/die-konzertisten-city-chamber-orchestra-hong-kong-china', '/events/wroc%C5%82aw-philharmonic-orchestra-poland', '/events/auckland-philharmonia-new-zealand', '/events/polyphony-8', '/events/holst-singers-london-3', '/events/polyphony-amsterdam', '/events/polyphony-city-london-sinfonia-london-0', '/events/hall%C3%A9-orchestra-manchester', '/events/polyphony-10', '/events/south-jutland-symphony-orchestra-1', '/events/south-jutland-symphony-orchestra-bach-christmas-oratorio-0', '/events/south-jutland-symphony-orchestra-denmark', '/events/choir-trinity-college-cambridge-25', '/events/polyphony-11', '/events/choir-trinity-college-cambridge-orchestra-age-enlightenment-hyperion-cd-recording', '/events/polyphony-5', '/events/holst-singers-southwark', '/events/holst-singers-stroud', '/events/polyphony-1', '/events/polyphony-2', '/events/city-london-sinfonia-1', '/events/city-london-sinfonia-2', '/events/choir-trinity-college-cambridge-cambridgeshire', '/events/orchestra-and-chorus-opera-north-leeds-0', '/events/orchestra-and-chorus-opera-north-leeds', '/events/city-london-sinfonia-faur%C3%A9-requiem-tour-durham', '/events/orchestra-and-chorus-opera-north-leeds-1', '/events/city-london-sinfonia-faur%C3%A9-requiem-tour-ely', '/events/city-london-sinfonia-faur%C3%A9-requiem-tour-portsmouth', '/events/city-london-sinfonia-faur%C3%A9-requiem-tour-derby', '/events/choir-trinity-college-cambridge-1', '/events/city-london-sinfonia-london-2', '/events/holst-singers-2', '/events/choir-trinity-college-cambridge-2', '/events/choir-trinity-college-cambridge-3', '/events/choir-trinity-college-cambridge-gloucester', '/events/choir-trinity-college-cambridge-4', '/events/choir-trinity-college-cambridge-5', '/events/choir-trinity-college-cambridge-6', '/events/choir-trinity-college-cambridge-7', '/events/choir-trinity-college-cambridge-8', '/events/choir-trinity-college-cambridge-9', '/events/choir-trinity-college-cambridge-10', '/events/choir-trinity-college-cambridge-11', '/events/choir-trinity-college-cambridge-12', '/events/choir-trinity-college-cambridge-13', '/events/polyphony-3', '/events/polyphony-4', '/events/state-choir-latvia-latvia', '/events/city-london-sinfonia-faur%C3%A9-requiem-tour-coventry', '/events/city-london-sinfonia-faur%C3%A9-requiem-tour-guildford', '/events/city-london-sinfonia-faur%C3%A9-requiem-tour-exeter', '/events/city-london-sinfonia-faur%C3%A9-requiem-tour-chester', '/events/city-london-sinfonia-faur%C3%A9-requiem-tour-southwell', '/events/voices-now-2013-northern-ireland', '/events/city-london-sinfonia-faur%C3%A9-requiem-tour-liverpool', '/events/holst-singers-london-2', '/events/eric-ericsons-kammark%C3%B6r-sweden', '/events/polyphony-london-0', '/events/choir-trinity-college-cambridge-cambridge', '/events/mdr-radio-choir-germany', '/events/aalborg-symphony-orchestra-denmark', '/events/aalborg-symphony-orchestra-bach-christmas-oratorio-3', '/events/aalborg-symphony-orchestra-bach-christmas-oratorio-4', '/events/choir-trinity-college-cambridge-orchestra-age-enlightenment-london', '/events/polyphony-orchestra-age-enlightenment-london', '/events/choir-trinity-college-cambridge-hyperion-cd-recording', '/events/choir-trinity-college-cambridge-hyperion-cd-recording-0', '/events/polyphony-deutsche-grammophon-cd-recording', '/events/choir-trinity-college-cambridge-cambridge-7', '/events/city-london-sinfonia-hilliard-ensemble-holst-singers-london', '/events/danish-radio-vocal-ensemble-denmark-8', '/events/city-london-sinfonia-bury-st-edmunds', '/events/city-london-sinfonia-london-1', '/events/polyphony-orchestra-age-enlightenment-london-1', '/events/polyphony-orchestra-age-enlightenment-belgium', '/events/polyphony-deutsche-grammophon-cd-release', '/events/holst-singers-london', '/events/city-london-sinfonia-hilliard-ensemble-brighton-festival-chorus-brighton', '/events/slovenian-philharmonic-choir-ljubljana-slovenia', '/events/holst-singers-brook-street-band-london', '/events/choir-trinity-college-cambridge-cambridge-23', '/events/choir-trinity-college-cambridge-hyperion-cd-recording-2', '/events/choir-trinity-college-cambridge-canada', '/events/choir-trinity-college-cambridge-canada-0', '/events/choir-trinity-college-cambridge-canada-1', '/events/choir-trinity-college-cambridge-canada-2', '/events/choir-trinity-college-cambridge-canada-3', '/events/choir-trinity-college-cambridge-canada-4', '/events/choir-trinity-college-cambridge-canada-5', '/events/choir-trinity-college-cambridge-canada-6', '/events/melbourne-symphony-orchestra-australia', '/events/melbourne-symphony-orchestra-chorus-australia-1', '/events/melbourne-symphony-orchestra-chorus-australia-0', '/events/auckland-philharmonia-new-zealand-0', '/events/city-london-sinfonia-london-7', '/events/city-london-sinfonia-london-6', '/events/ulster-orchestra-belfast-0', '/events/ulster-orchestra-belfast-1', '/events/polyphony-london-34', '/events/choir-trinity-college-cambridge-london-1', '/events/polyphony-london-35', '/events/swr-vokalensemble-stuttgart', '/events/polyphony-groningen', '/events/polyphony-britten-sinfonia-amsterdam', '/events/choir-trinity-college-cambridge-cambridge-24', '/events/choir-trinity-college-cambridge-switzerland-0', '/events/holst-singers-london-53', '/events/polyphony-london-36', '/events/ndr-choir-germany', '/events/ndr-choir-hamburg-0', '/events/ndr-choir-germany-0', '/events/bbc-national-orchestra-wales-cardiff', '/events/seattle-symphony-orchestra-chorale-seattle-usa', '/events/seattle-symphony-orchestra-chorale-seattle-usa-0', '/events/city-london-sinfonia-leon-mexico', '/events/city-london-sinfonia-guadalajara-mexico', '/events/city-london-sinfonia-mexico-city-mexico', '/events/choir-trinity-college-cambridge-cambridge-25', '/events/polyphony-city-london-sinfonia-london-1', '/events/holst-singers-brook-street-band-london-0', '/events/gala-benefit-concert-new-york-city-usa', '/events/choir-trinity-college-cambridge-cambridge-27', '/events/det-norske-solistkor-trondheim', '/events/veil-temple-norway', '/events/voces-musicales-estonia', '/events/choir-trinity-college-cambridge-new-york-city-usa', '/events/choir-trinity-college-cambridge-pennsylvania-usa', '/events/choir-trinity-college-cambridge-pennsylvania-usa-0', '/events/choir-trinity-college-cambridge-tennessee-usa', '/events/choir-trinity-college-cambridge-georgia-usa', '/events/choir-trinity-college-cambridge-texas-usa', '/events/choir-trinity-college-cambridge-nebraska-usa', '/events/city-london-sinfonia', '/events/holst-singers-bayswater-london', '/events/polyphony-hampshire', '/events/choir-trinity-college-cambridge-cambridge-28', '/events/choir-trinity-college-cambridge-korschenbroich', '/events/choir-trinity-college-cambridge-d%C3%BCsseldorf-gerresheim', '/events/choir-trinity-college-cambridge-steinfeld-kall', '/events/choir-trinity-college-cambridge-xanten', '/events/s%C3%B8nderjyllands-symfoniorkester-denmark', '/events/s%C3%B8nderjyllands-symfoniorkester-denmark-0', '/events/s%C3%B8nderjyllands-symfoniorkester-denmark-1', '/events/choir-trinity-college-cambridge-orchestra-age-enlightenment-london-1', '/events/polyphony-orchestra-age-enlightenment-london-3', '/events/choirs-eton-and-winchester-college-academy-ancient-music-london', '/events/holst-singers-oxford-1', '/events/choir-trinity-college-cambridge-cambridge-29', '/events/choir-trinity-college-cambridge-monks-kirby', '/events/choir-trinity-college-cambridge-dickleburgh', '/events/polyphony-orchestra-age-enlightenment-frankfurt', '/events/polyphony-orchestra-age-enlightenment-paris', '/events/polyphony-london-38', '/events/netherlands-kamerkoor-breda', '/events/netherlands-kamerkoor-den-bosch', '/events/netherlands-kamerkoor-antwerp', '/events/netherlands-kamerkoor-bergen-op-zoom', '/events/netherlands-kamerkoor-eindhoven', '/events/netherlands-kamerkoor-tilburg', '/events/netherlands-kamerkoor-amsterdam-0', '/events/netherlands-kamerkoor-utrecht', '/events/holst-singers-music-awhile-london', '/events/choir-trinity-college-cambridge-hong-kong', '/events/choir-trinity-college-cambridge-hong-kong-0', '/events/choir-trinity-college-cambridge-brisbane', '/events/choir-trinity-college-cambridge-melbourne', '/events/choir-trinity-college-cambridge-adelaide', '/events/choir-trinity-college-cambridge-melbourne-0', '/events/choir-trinity-college-cambridge-sydney', '/events/choir-trinity-college-cambridge-perth', '/events/choir-trinity-college-cambridge-sydney-0', '/events/choir-trinity-college-cambridge-newcastle', '/events/choir-trinity-college-cambridge-canberra', '/events/choir-trinity-college-cambridge-hobart', '/events/choir-trinity-college-cambridge-hobart-0', '/events/auckland-philharmonia-orchestra-new-zealand', '/events/die-konzertisten-hong-kong-0', '/events/die-konzertisten-hong-kong', '/events/city-london-sinfonia-truro', '/events/city-london-sinfonia-hereford', '/events/city-london-sinfonia-lichfield', '/events/city-london-sinfonia-southwell', '/events/city-london-sinfonia-york', '/events/city-london-sinfonia-chester', '/events/holst-singers-london-uk', '/events/west-australian-symphony-orchestra-chorus-perth-1', '/events/west-australian-symphony-orchestra-chorus-perth-0', '/events/adelaide-symphony-orchestra-chamber-singers-adelaide', '/events/adelaide-symphony-orchestra-chamber-singers-adelaide-0', '/events/seattle-symphony-orchestra-chorale-seattle-usa-1', '/events/seattle-symphony-orchestra-chorale-seattle-usa-2', '/events/seattle-symphony-orchestra-chorale-seattle-usa-4', '/events/choir-trinity-college-cambridge-london-2', '/events/polyphony-london-39', '/events/choir-trinity-college-cambridge-orchestra-age-enlightenment-cambridge', '/events/choir-latvian-conservatory-latvia', '/events/holst-singers-rochester', '/events/mdr-radio-choir-leipzig', '/events/mdr-radio-choir-dessau', '/events/choir-trinity-college-cambridge-coventry', '/events/choir-trinity-college-cambridge-cambridge-30', '/events/queensland-symphony-orchestra-australian-voices-brisbane', '/events/polyphony-orchestra-age-enlightenment-london-2', '/events/holst-singers-london-54', '/events/choir-trinity-college-cambridge-cambridge-31', '/events/holst-singers-london-55', '/events/choir-trinity-college-cambridge-niagara-lake', '/events/choir-trinity-college-cambridge-niagara-lake-0', '/events/choir-trinity-college-cambridge-london-3', '/events/choir-trinity-college-cambridge-elora', '/events/choir-trinity-college-cambridge-toronto', '/events/choir-trinity-college-cambridge-elora-0', '/events/choir-trinity-college-cambridge-parry-sound', '/events/choir-trinity-college-cambridge-kingston', '/events/national-youth-choir-great-britain-cambridge', '/events/holst-singers-cheltenham', '/events/capella-pratensis-nederlands-kamerkoor-s-hertogenbosch', '/events/voces-musicales-estonia-0', '/events/voces-musicales-estonia-1', '/events/ndr-hamburg', '/events/ndr-winsen', '/events/ndr-berlin', '/events/choir-trinity-college-cambridge-saffron-walden', '/events/choir-trinity-college-cambridge-london-4', '/events/polyphony-orchestra-age-enlightenment-london-4', '/events/holst-singers-rochester-0', '/events/florilegium-london', '/events/choir-trinity-college-cambridge-fen-ditton', '/events/polyphony-britten-sinfonia-london', '/events/chorkwerk-ruhr-germany', '/events/chorkwerk-ruhr-germany-0', '/events/chorkwerk-ruhr-germany-1', '/events/holst-singers-london-56', '/events/slovenian-philharmonic-choir-slovenia', '/events/holst-singers-london-57', '/events/nfm-choir-poland', '/events/choir-trinity-college-cambridge-germany-2', '/events/choir-trinity-college-cambridge-germany-3', '/events/choir-trinity-college-cambridge-germany-4', '/events/choir-trinity-college-cambridge-germany-5', '/events/choir-trinity-college-cambridge-germany-6', '/events/choir-trinity-college-cambridge-germany-7', '/events/choir-trinity-college-cambridge-germany-8', '/events/choir-trinity-college-cambridge-germany-9', '/events/festival-de-lanaudi%C3%A8re-quebec', '/events/latvian-state-choir-riga', '/events/polyphony-wales', '/events/auckland-philharmonia-orchestra-new-zealand-0', '/events/holst-singers-london-58', '/events/flemish-radio-choir-belgium-0', '/events/flemish-radio-choir-belgium-1', '/events/flemish-radio-choir-belgium', '/events/flemish-radio-choir-belgium-2', '/events/bbc-national-orchestra-wales-cardiff-0', '/events/odense-symphony-orchestra-denmark-2', '/events/odense-symphony-orchestra-denmark-3', '/events/odense-symphony-orchestra-denmark-4', '/events/choir-trinity-college-cambridge-london-5', '/events/polyphony-orchestra-age-enlightenment-london-5', '/events/holst-singers-cambridge-2', '/events/polyphony-norway', '/events/tasmanian-symphony-orchestra-tasmania', '/events/adelaide-symphony-orchestra-chamber-singers-adelaide-1', '/events/polyphony-orchestra-age-enlightenment-london-6', '/events/holst-singers-london-59', '/events/choir-trinity-college-cambridge-cambridge-33', '/events/choir-trinity-college-cambridge-cambridge-35', '/events/choir-trinity-college-cambridge-italy', '/events/choir-trinity-college-cambridge-luxembourg', '/events/choir-trinity-college-cambridge-germany-10', '/events/choir-trinity-college-cambridge-connecticut-usa', '/events/choir-trinity-college-cambridge-wisconsin-usa', '/events/choir-trinity-college-cambridge-georgia-usa-0', '/events/choir-trinity-college-cambridge-new-york-usa', '/events/choir-trinity-college-cambridge-ohio-usa', '/events/choir-trinity-college-cambridge-pennsylvania-usa-1', '/events/choir-trinity-college-cambridge-texas-usa-0', '/events/choir-trinity-college-cambridge-texas-usa-1', '/events/choir-trinity-college-cambridge-texas-usa-2', '/events/queensland-symphony-orchestra-brisbane-chamber-choir-brisbane', '/events/norrlandsoperans-symfoniorkester-norrlandsoperans-k%C3%B6r-%E2%80%93-ume%C3%A5-sweden', '/events/norrlandsoperans-symfoniorkester-norrlandsoperans-k%C3%B6r-%E2%80%93-ume%C3%A5-sweden-0', '/events/trinity-college-choir-orchestra-age-enlightenment-%E2%80%93-london', '/events/polyphony-orchestra-age-enlightenment-%E2%80%93-london', '/events/slovenian-philharmonic-orchestra-and-choir-%E2%80%94-ljubljana', '/events/slovenian-philharmonic-orchestra-and-choir-%E2%80%94-ljubljana-0']\n"
     ]
    }
   ],
   "source": [
    "urlbase = pickle.load(open('urlbase.pickle', 'rb'))\n",
    "\n",
    "hrefs = []\n",
    "for year in range(2010, 2021):\n",
    "    count_hrefs = 0\n",
    "    for month in range(1, 13):\n",
    "        # assemble URL of current month to extract hrefs of events\n",
    "        url = urlbase+\"/concerts?field_date_value%5Bvalue%5D%5Bmonth%5D=\"+str(month)\n",
    "        url += \"&field_date_value%5Bvalue%5D%5Byear%5D=\"+str(year)\n",
    "        url += \"&tid=All\"\n",
    "        \n",
    "        page = requests.get(url)\n",
    "        soup = BeautifulSoup(page.content, 'html.parser')\n",
    "\n",
    "        for event in soup.find_all('div', class_=\"month mini-day-on\"):\n",
    "            hrefs.append(event.find_all('a')[0].get('href'))\n",
    "            count_hrefs += 1\n",
    "            \n",
    "    print(year, \"found\", count_hrefs)\n",
    "            \n",
    "print(hrefs)"
   ]
  },
  {
   "cell_type": "code",
   "execution_count": 125,
   "metadata": {},
   "outputs": [],
   "source": [
    "import pickle\n",
    "pickle.dump(hrefs, open('hrefs.pickle', 'wb'))"
   ]
  },
  {
   "cell_type": "code",
   "execution_count": 3,
   "metadata": {},
   "outputs": [],
   "source": [
    "import pickle\n",
    "import sys\n",
    "hrefs = pickle.load(open('hrefs.pickle', 'rb'))"
   ]
  },
  {
   "cell_type": "code",
   "execution_count": 4,
   "metadata": {
    "scrolled": false
   },
   "outputs": [
    {
     "name": "stderr",
     "output_type": "stream",
     "text": [
      "100%|████████████████████████████████████████████████████████████████████████████████████| 1/1 [00:02<00:00,  2.15s/it]"
     ]
    },
    {
     "name": "stdout",
     "output_type": "stream",
     "text": [
      "1 lines added successfully\n"
     ]
    },
    {
     "name": "stderr",
     "output_type": "stream",
     "text": [
      "\n"
     ]
    }
   ],
   "source": [
    "from tqdm import tqdm\n",
    "urlbase = pickle.load(open('urlbase.pickle', 'rb'))\n",
    "\n",
    "lines, line_count = [], 0\n",
    "for href in tqdm(hrefs):\n",
    "    url = urlbase + href\n",
    "\n",
    "    page = requests.get(url)\n",
    "    soup = BeautifulSoup(page.content, 'html.parser')\n",
    "    \n",
    "    suptitle = soup.find_all('h1', class_=\"title gutter\")[0].contents[0]\n",
    "\n",
    "    fields = soup.find_all('div', class_=\"field-items\")\n",
    "\n",
    "    try:\n",
    "        location, title = '', ''\n",
    "        date = soup.find_all('span', class_=\"date-display-single\")[0].get('content')\n",
    "        for i in range(len(fields)):\n",
    "            paragraphs = fields[i].find_all('p')\n",
    "            if len(paragraphs) > 0: \n",
    "                location = paragraphs[-1].contents[0]\n",
    "                if len(paragraphs) > 1: title = paragraphs[0].renderContents() # TODO: strip all HTML tags in these\n",
    "                break\n",
    "                \n",
    "    except IndexError as e:\n",
    "        print(url)\n",
    "        print(soup.find_all('p')[0])\n",
    "        sys.exit()\n",
    "\n",
    "    artists, composers = [], []\n",
    "    composerMode = False # whether we're in the artist (False) or composer (True) column\n",
    "\n",
    "    subfields = [field.find_all('div', class_=\"field-item even\")[0] if len(field.find_all('div', class_=\"field-item even\")) > 0 else None for field in fields[2:]]\n",
    "    for subfield in subfields:\n",
    "        if subfield is not None: \n",
    "            subfield = subfield.next # enter subfield\n",
    "            if str(subfield).find('composer') > -1: composerMode = True\n",
    "            if str(subfield).find('<') == -1 and len(subfield) > 1: \n",
    "                if composerMode: composers.append(subfield)\n",
    "                else:            artists.append(subfield) # TODO: append things like Director/soprano/alto/tenor/bass to the previous element\n",
    "\n",
    "    lines.append([date, suptitle, title, location, ','.join(artists), ','.join(composers)])\n",
    "    line_count += 1\n",
    "    \n",
    "print(line_count, \"lines added successfully\")"
   ]
  },
  {
   "cell_type": "code",
   "execution_count": null,
   "metadata": {},
   "outputs": [],
   "source": [
    "# save to file\n",
    "import codecs # write as UTF8 - TODO: check that this does what it says\n",
    "\n",
    "with codecs.open('trinity.csv', 'a', \"utf-8\") as the_file:\n",
    "    the_file.write('date;title;location;artists;composers\\n')\n",
    "    for line in lines:\n",
    "        the_file.write(';'.join(line)+'\\n')\n",
    "        \n",
    "print(\"File successfully saved\")"
   ]
  },
  {
   "cell_type": "code",
   "execution_count": null,
   "metadata": {},
   "outputs": [],
   "source": []
  }
 ],
 "metadata": {
  "kernelspec": {
   "display_name": "Python 3",
   "language": "python",
   "name": "python3"
  },
  "language_info": {
   "codemirror_mode": {
    "name": "ipython",
    "version": 3
   },
   "file_extension": ".py",
   "mimetype": "text/x-python",
   "name": "python",
   "nbconvert_exporter": "python",
   "pygments_lexer": "ipython3",
   "version": "3.8.3"
  }
 },
 "nbformat": 4,
 "nbformat_minor": 4
}
